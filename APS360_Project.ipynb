{
  "nbformat": 4,
  "nbformat_minor": 0,
  "metadata": {
    "colab": {
      "provenance": [],
      "gpuType": "T4",
      "mount_file_id": "1Hi9-jp-Ye6Uv_VGbeno4IOekFcZo_NdK",
      "authorship_tag": "ABX9TyP7oZX7XaCiI+T3lBBi9DvJ",
      "include_colab_link": true
    },
    "kernelspec": {
      "name": "python3",
      "display_name": "Python 3"
    },
    "language_info": {
      "name": "python"
    },
    "accelerator": "GPU"
  },
  "cells": [
    {
      "cell_type": "markdown",
      "metadata": {
        "id": "view-in-github",
        "colab_type": "text"
      },
      "source": [
        "<a href=\"https://colab.research.google.com/github/uzFer/APS360-Project/blob/main/APS360_Project.ipynb\" target=\"_parent\"><img src=\"https://colab.research.google.com/assets/colab-badge.svg\" alt=\"Open In Colab\"/></a>"
      ]
    },
    {
      "cell_type": "code",
      "source": [
        "import matplotlib.pyplot as plt\n",
        "import numpy as np\n",
        "import imageio.v2 as imageio\n",
        "from scipy import ndimage\n",
        "import os\n",
        "import cv2\n",
        "from PIL import Image"
      ],
      "metadata": {
        "id": "HJH50S16809U"
      },
      "execution_count": 1,
      "outputs": []
    },
    {
      "cell_type": "code",
      "source": [
        "# Function to convert RGB image to grayscale\n",
        "def RGB2Gray(image):\n",
        "    return np.dot(image[..., :3], [0.2989, 0.5870, 0.1140])\n",
        "\n",
        "# Function to compute the gradient along the x-axis\n",
        "def gradient_x(image):\n",
        "    grad_image = ndimage.convolve(image, np.array([[-1, 0, 1],\n",
        "                                                   [-2, 0, 2],\n",
        "                                                   [-1, 0, 1]]))\n",
        "    return grad_image / np.max(grad_image)\n",
        "\n",
        "# Function to compute the gradient along the y-axis\n",
        "def gradient_y(image):\n",
        "    # Sobel filter\n",
        "    grad_image = ndimage.convolve(image, np.array([[-1, -2, -1],\n",
        "                                                   [0, 0, 0],\n",
        "                                                   [1, 2, 1]]))\n",
        "    return grad_image / np.max(grad_image)\n",
        "\n",
        "# Function to compute the gradient magnitude\n",
        "def gradient_magnitude(fx, fy):\n",
        "    grad_magnitude = np.hypot(fx, fy)\n",
        "    return grad_magnitude / np.max(grad_magnitude)"
      ],
      "metadata": {
        "id": "os_fQcbP9ZhR"
      },
      "execution_count": 2,
      "outputs": []
    },
    {
      "cell_type": "code",
      "source": [
        "# Function to determine the closest gradient direction for each pixel\n",
        "def closest_dir(grad_direction):\n",
        "    closest_dir_arr = np.zeros(grad_direction.shape)\n",
        "\n",
        "    for i in range(1, int(grad_direction.shape[0] - 1)):\n",
        "        for j in range(1, int(grad_direction.shape[1] - 1)):\n",
        "\n",
        "            # Determine the closest direction based on the gradient angle\n",
        "            if((grad_direction[i, j] > -22.5 and grad_direction[i, j] <= 22.5) or\n",
        "                (grad_direction[i, j] <= -157.5 and grad_direction[i, j] > 157.5)):\n",
        "                closest_dir_arr[i, j] = 0\n",
        "\n",
        "            elif((grad_direction[i, j] > 22.5 and grad_direction[i, j] <= 67.5) or\n",
        "                (grad_direction[i, j] <= -112.5 and grad_direction[i, j] > -157.5)):\n",
        "                closest_dir_arr[i, j] = 45\n",
        "\n",
        "            elif((grad_direction[i, j] > 67.5 and grad_direction[i, j] <= 112.5) or\n",
        "                (grad_direction[i, j] <= -67.5 and grad_direction[i, j] > -112.5)):\n",
        "                closest_dir_arr[i, j] = 90\n",
        "\n",
        "            else:\n",
        "                closest_dir_arr[i, j] = 135\n",
        "\n",
        "    return closest_dir_arr"
      ],
      "metadata": {
        "id": "8gB16eLh9eyS"
      },
      "execution_count": 3,
      "outputs": []
    },
    {
      "cell_type": "code",
      "source": [
        "# Function to perform non-maximal suppression on the grad magnitude\n",
        "def non_max_suppressor(grad_magnitude, closest_dir):\n",
        "    thin_line_output = np.zeros(grad_magnitude.shape)\n",
        "\n",
        "    for i in range(1, int(grad_magnitude.shape[0] - 1)):\n",
        "        for j in range(1, int(grad_magnitude.shape[1] - 1)):\n",
        "            if(closest_dir[i, j] == 0):\n",
        "                if((grad_magnitude[i, j] > grad_magnitude[i, j + 1]) and (grad_magnitude[i, j] > grad_magnitude[i, j - 1])):\n",
        "                    thin_line_output[i, j] = grad_magnitude[i, j]\n",
        "                else:\n",
        "                    thin_line_output[i, j] = 0\n",
        "\n",
        "            elif(closest_dir[i, j] == 45):\n",
        "                if((grad_magnitude[i, j] > grad_magnitude[i + 1, j + 1]) and (grad_magnitude[i, j] > grad_magnitude[i - 1, j - 1])):\n",
        "                    thin_line_output[i, j] = grad_magnitude[i, j]\n",
        "                else:\n",
        "                    thin_line_output[i, j] = 0\n",
        "\n",
        "            elif(closest_dir[i, j] == 90):\n",
        "                if((grad_magnitude[i, j] > grad_magnitude[i + 1, j]) and (grad_magnitude[i, j] > grad_magnitude[i - 1, j])):\n",
        "                    thin_line_output[i, j] = grad_magnitude[i, j]\n",
        "                else:\n",
        "                    thin_line_output[i, j] = 0\n",
        "\n",
        "            else:\n",
        "                if((grad_magnitude[i, j] > grad_magnitude[i + 1, j - 1]) and (grad_magnitude[i, j] > grad_magnitude[i - 1, j + 1])) :\n",
        "                    thin_line_output[i, j] = grad_magnitude[i, j]\n",
        "                else:\n",
        "                    thin_line_output[i, j] = 0\n",
        "\n",
        "    return thin_line_output / np.max(thin_line_output)"
      ],
      "metadata": {
        "id": "6dteGG909kHD"
      },
      "execution_count": 4,
      "outputs": []
    },
    {
      "cell_type": "code",
      "source": [
        "def hysteresis_thresholding(image):\n",
        "    t_low = 0.15\n",
        "    t_high = 0.3\n",
        "    diff = np.max(image) - np.min(image)\n",
        "    threshold_low = np.min(image) + t_low * diff\n",
        "    threshold_high = np.min(image) + t_high * diff\n",
        "\n",
        "    strong_edges = (image >= threshold_high)\n",
        "    weak_edges = (image >= threshold_low) & (image < threshold_high)\n",
        "\n",
        "    # Final output image\n",
        "    final_output = strong_edges.astype(np.uint8) * 2 + weak_edges.astype(np.uint8)\n",
        "\n",
        "    return final_output\n",
        "\n",
        "    # low_ratio = 0.10\n",
        "    # high_ratio = 0.30\n",
        "    # diff = np.max(image) - np.min(image)\n",
        "    # t_low = np.min(image) + low_ratio * diff\n",
        "    # t_high = np.min(image) + high_ratio * diff\n",
        "\n",
        "    # temp_image = np.copy(image)\n",
        "\n",
        "    # for i in range(1, int(image.shape[0] - 1)):\n",
        "    #     for j in range(1, int(image.shape[1] - 1)):\n",
        "    #         if(image[i, j] > t_high):\n",
        "    #             temp_image[i, j] = 2\n",
        "    #         elif(image[i, j] < t_low):\n",
        "    #             temp_image[i, j] = 0\n",
        "    #         else:\n",
        "    #             temp_image[i, j] = 1\n",
        "\n",
        "    # total_strong = np.sum(temp_image == 2)\n",
        "\n",
        "    # while(1):\n",
        "    #     DFS(temp_image)\n",
        "    #     if(total_strong == np.sum(temp_image == 2)):\n",
        "    #         break\n",
        "    #     total_strong = np.sum(temp_image == 2)\n",
        "\n",
        "    # for i in range(1, int(temp_image.shape[0] - 1)):\n",
        "    #     for j in range(1, int(temp_image.shape[1] - 1)):\n",
        "    #         if(temp_image[i, j] == 1):\n",
        "    #             temp_image[i, j] = 0\n",
        "\n",
        "    # temp_image = temp_image / np.max(temp_image)\n",
        "    # return temp_image"
      ],
      "metadata": {
        "id": "6efFJ1VQ9rEF"
      },
      "execution_count": 5,
      "outputs": []
    },
    {
      "cell_type": "code",
      "source": [
        "output_path = \"/content/drive/MyDrive/test_output/\"\n",
        "folder_path = \"/content/drive/MyDrive/images/\"\n",
        "image_names = [file for file in os.listdir(folder_path) if file.lower().endswith(('.png', '.jpg', '.jpeg'))]\n",
        "\n",
        "for image in image_names:\n",
        "    input_image = imageio.imread(folder_path + image)\n",
        "    gray_input_image = RGB2Gray(input_image)\n",
        "    blur_image = ndimage.gaussian_filter(gray_input_image, sigma = 1.0)\n",
        "\n",
        "    x_grad = gradient_x(blur_image)\n",
        "    y_grad = gradient_y(blur_image)\n",
        "\n",
        "    grad_mag = gradient_magnitude(x_grad, y_grad)\n",
        "    grad_mag_pil = Image.fromarray(np.uint8(grad_mag))\n",
        "\n",
        "    grad_dir = np.degrees(np.arctan2(y_grad, x_grad))\n",
        "    grad_dir_pil = Image.fromarray(np.uint8(grad_dir))\n",
        "\n",
        "    closest_dir = closest_dir(grad_dir)\n",
        "    thin_line_output = non_max_suppressor(grad_mag, closest_dir)\n",
        "    thinned_output_pil = Image.fromarray(np.uint8(thin_line_output))\n",
        "\n",
        "    output_image = hysteresis_thresholding(thin_line_output)\n",
        "    final_output_pil = Image.fromarray(np.uint8(output_image))\n",
        "    cv2.imwrite(output_path + \"/\" + image.split(\".\")[0] + \".jpg\", (output_image * 255).astype(np.uint8))"
      ],
      "metadata": {
        "colab": {
          "base_uri": "https://localhost:8080/",
          "height": 390
        },
        "id": "f096rGtR9yrp",
        "outputId": "15e25800-b199-4e88-a962-d7b4bce11f44"
      },
      "execution_count": 6,
      "outputs": [
        {
          "output_type": "error",
          "ename": "KeyboardInterrupt",
          "evalue": "ignored",
          "traceback": [
            "\u001b[0;31m---------------------------------------------------------------------------\u001b[0m",
            "\u001b[0;31mKeyboardInterrupt\u001b[0m                         Traceback (most recent call last)",
            "\u001b[0;32m<ipython-input-6-09f1fe9b2a51>\u001b[0m in \u001b[0;36m<cell line: 5>\u001b[0;34m()\u001b[0m\n\u001b[1;32m     22\u001b[0m     \u001b[0mthinned_output_pil\u001b[0m \u001b[0;34m=\u001b[0m \u001b[0mImage\u001b[0m\u001b[0;34m.\u001b[0m\u001b[0mfromarray\u001b[0m\u001b[0;34m(\u001b[0m\u001b[0mnp\u001b[0m\u001b[0;34m.\u001b[0m\u001b[0muint8\u001b[0m\u001b[0;34m(\u001b[0m\u001b[0mthinned_output\u001b[0m\u001b[0;34m)\u001b[0m\u001b[0;34m)\u001b[0m\u001b[0;34m\u001b[0m\u001b[0;34m\u001b[0m\u001b[0m\n\u001b[1;32m     23\u001b[0m \u001b[0;34m\u001b[0m\u001b[0m\n\u001b[0;32m---> 24\u001b[0;31m     \u001b[0moutput_img\u001b[0m \u001b[0;34m=\u001b[0m \u001b[0mhysteresis_thresholding\u001b[0m\u001b[0;34m(\u001b[0m\u001b[0mthinned_output\u001b[0m\u001b[0;34m)\u001b[0m\u001b[0;34m\u001b[0m\u001b[0;34m\u001b[0m\u001b[0m\n\u001b[0m\u001b[1;32m     25\u001b[0m     \u001b[0mfinal_output_pil\u001b[0m \u001b[0;34m=\u001b[0m \u001b[0mImage\u001b[0m\u001b[0;34m.\u001b[0m\u001b[0mfromarray\u001b[0m\u001b[0;34m(\u001b[0m\u001b[0mnp\u001b[0m\u001b[0;34m.\u001b[0m\u001b[0muint8\u001b[0m\u001b[0;34m(\u001b[0m\u001b[0moutput_img\u001b[0m\u001b[0;34m)\u001b[0m\u001b[0;34m)\u001b[0m\u001b[0;34m\u001b[0m\u001b[0;34m\u001b[0m\u001b[0m\n\u001b[1;32m     26\u001b[0m     \u001b[0mcv2\u001b[0m\u001b[0;34m.\u001b[0m\u001b[0mimwrite\u001b[0m\u001b[0;34m(\u001b[0m\u001b[0moutput_path\u001b[0m \u001b[0;34m+\u001b[0m \u001b[0;34m\"/\"\u001b[0m \u001b[0;34m+\u001b[0m \u001b[0mimg\u001b[0m\u001b[0;34m.\u001b[0m\u001b[0msplit\u001b[0m\u001b[0;34m(\u001b[0m\u001b[0;34m\".\"\u001b[0m\u001b[0;34m)\u001b[0m\u001b[0;34m[\u001b[0m\u001b[0;36m0\u001b[0m\u001b[0;34m]\u001b[0m \u001b[0;34m+\u001b[0m \u001b[0;34m\".jpg\"\u001b[0m\u001b[0;34m,\u001b[0m \u001b[0;34m(\u001b[0m\u001b[0moutput_img\u001b[0m \u001b[0;34m*\u001b[0m \u001b[0;36m255\u001b[0m\u001b[0;34m)\u001b[0m\u001b[0;34m.\u001b[0m\u001b[0mastype\u001b[0m\u001b[0;34m(\u001b[0m\u001b[0mnp\u001b[0m\u001b[0;34m.\u001b[0m\u001b[0muint8\u001b[0m\u001b[0;34m)\u001b[0m\u001b[0;34m)\u001b[0m\u001b[0;34m\u001b[0m\u001b[0;34m\u001b[0m\u001b[0m\n",
            "\u001b[0;32m<ipython-input-5-ab6fd1cff080>\u001b[0m in \u001b[0;36mhysteresis_thresholding\u001b[0;34m(img)\u001b[0m\n\u001b[1;32m     30\u001b[0m \u001b[0;34m\u001b[0m\u001b[0m\n\u001b[1;32m     31\u001b[0m     \u001b[0;32mwhile\u001b[0m\u001b[0;34m(\u001b[0m\u001b[0;36m1\u001b[0m\u001b[0;34m)\u001b[0m\u001b[0;34m:\u001b[0m\u001b[0;34m\u001b[0m\u001b[0;34m\u001b[0m\u001b[0m\n\u001b[0;32m---> 32\u001b[0;31m         \u001b[0mDFS\u001b[0m\u001b[0;34m(\u001b[0m\u001b[0mtemp_img\u001b[0m\u001b[0;34m)\u001b[0m\u001b[0;34m\u001b[0m\u001b[0;34m\u001b[0m\u001b[0m\n\u001b[0m\u001b[1;32m     33\u001b[0m         \u001b[0;32mif\u001b[0m\u001b[0;34m(\u001b[0m\u001b[0mtotal_strong\u001b[0m \u001b[0;34m==\u001b[0m \u001b[0mnp\u001b[0m\u001b[0;34m.\u001b[0m\u001b[0msum\u001b[0m\u001b[0;34m(\u001b[0m\u001b[0mtemp_img\u001b[0m \u001b[0;34m==\u001b[0m \u001b[0;36m2\u001b[0m\u001b[0;34m)\u001b[0m\u001b[0;34m)\u001b[0m\u001b[0;34m:\u001b[0m\u001b[0;34m\u001b[0m\u001b[0;34m\u001b[0m\u001b[0m\n\u001b[1;32m     34\u001b[0m             \u001b[0;32mbreak\u001b[0m\u001b[0;34m\u001b[0m\u001b[0;34m\u001b[0m\u001b[0m\n",
            "\u001b[0;32m<ipython-input-5-ab6fd1cff080>\u001b[0m in \u001b[0;36mDFS\u001b[0;34m(img)\u001b[0m\n\u001b[1;32m      2\u001b[0m     \u001b[0;32mfor\u001b[0m \u001b[0mi\u001b[0m \u001b[0;32min\u001b[0m \u001b[0mrange\u001b[0m\u001b[0;34m(\u001b[0m\u001b[0;36m1\u001b[0m\u001b[0;34m,\u001b[0m \u001b[0mint\u001b[0m\u001b[0;34m(\u001b[0m\u001b[0mimg\u001b[0m\u001b[0;34m.\u001b[0m\u001b[0mshape\u001b[0m\u001b[0;34m[\u001b[0m\u001b[0;36m0\u001b[0m\u001b[0;34m]\u001b[0m \u001b[0;34m-\u001b[0m \u001b[0;36m1\u001b[0m\u001b[0;34m)\u001b[0m\u001b[0;34m)\u001b[0m\u001b[0;34m:\u001b[0m\u001b[0;34m\u001b[0m\u001b[0;34m\u001b[0m\u001b[0m\n\u001b[1;32m      3\u001b[0m         \u001b[0;32mfor\u001b[0m \u001b[0mj\u001b[0m \u001b[0;32min\u001b[0m \u001b[0mrange\u001b[0m\u001b[0;34m(\u001b[0m\u001b[0;36m1\u001b[0m\u001b[0;34m,\u001b[0m \u001b[0mint\u001b[0m\u001b[0;34m(\u001b[0m\u001b[0mimg\u001b[0m\u001b[0;34m.\u001b[0m\u001b[0mshape\u001b[0m\u001b[0;34m[\u001b[0m\u001b[0;36m1\u001b[0m\u001b[0;34m]\u001b[0m \u001b[0;34m-\u001b[0m \u001b[0;36m1\u001b[0m\u001b[0;34m)\u001b[0m\u001b[0;34m)\u001b[0m\u001b[0;34m:\u001b[0m\u001b[0;34m\u001b[0m\u001b[0;34m\u001b[0m\u001b[0m\n\u001b[0;32m----> 4\u001b[0;31m             \u001b[0;32mif\u001b[0m\u001b[0;34m(\u001b[0m\u001b[0mimg\u001b[0m\u001b[0;34m[\u001b[0m\u001b[0mi\u001b[0m\u001b[0;34m,\u001b[0m \u001b[0mj\u001b[0m\u001b[0;34m]\u001b[0m \u001b[0;34m==\u001b[0m \u001b[0;36m1\u001b[0m\u001b[0;34m)\u001b[0m\u001b[0;34m:\u001b[0m\u001b[0;34m\u001b[0m\u001b[0;34m\u001b[0m\u001b[0m\n\u001b[0m\u001b[1;32m      5\u001b[0m                 t_max = max(img[i - 1, j - 1], img[i - 1, j], img[i - 1, j + 1], img[i, j - 1],\n\u001b[1;32m      6\u001b[0m                             img[i, j + 1], img[i + 1, j - 1], img[i + 1, j], img[i + 1, j + 1])\n",
            "\u001b[0;31mKeyboardInterrupt\u001b[0m: "
          ]
        }
      ]
    }
  ]
}